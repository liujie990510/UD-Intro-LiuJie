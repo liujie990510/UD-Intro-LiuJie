{
 "cells": [
  {
   "cell_type": "markdown",
   "id": "38e188a5",
   "metadata": {},
   "source": [
    "# Exercise 00\n",
    "Write a piece of code that allocates a list of 20 integers and initializes each element by its index multiplied by 5. Print the result."
   ]
  },
  {
   "cell_type": "code",
   "execution_count": 4,
   "id": "01aa4f35",
   "metadata": {},
   "outputs": [
    {
     "name": "stdout",
     "output_type": "stream",
     "text": [
      "[0, 5, 10, 15, 20, 25, 30, 35, 40, 45, 50, 55, 60, 65, 70, 75, 80, 85, 90, 95]\n"
     ]
    }
   ],
   "source": [
    "in_list = []\n",
    "\n",
    "for i in range(20):\n",
    "    value = i * 5\n",
    "    first_list.append(value)\n",
    "\n",
    "print(in_list)"
   ]
  },
  {
   "cell_type": "markdown",
   "id": "529d91ae",
   "metadata": {},
   "source": [
    "# Exercise 01\n",
    "Define a function that takes an integer as input, prints  all integers that it is divisable by, and returns the largest one."
   ]
  },
  {
   "cell_type": "code",
   "execution_count": 15,
   "id": "30e79132",
   "metadata": {},
   "outputs": [
    {
     "name": "stdout",
     "output_type": "stream",
     "text": [
      "Enter an integer: 80\n",
      "1\n",
      "2\n",
      "4\n",
      "5\n",
      "8\n",
      "10\n",
      "16\n",
      "20\n",
      "40\n",
      "80\n",
      "The largest divisor is: 80\n"
     ]
    }
   ],
   "source": [
    "def list_divisor(num):\n",
    "    largest_divisor = 1\n",
    "\n",
    "    for divisor in range(1, num + 1):\n",
    "        if num % divisor == 0:\n",
    "            print(divisor)\n",
    "\n",
    "            if divisor > largest_divisor:\n",
    "                largest_divisor = divisor\n",
    "\n",
    "    return largest_divisor\n",
    "\n",
    "input_number = int(input(\"Enter an integer: \"))\n",
    "result = list_divisor(input_number)\n",
    "print(\"The largest divisor is:\", result)"
   ]
  },
  {
   "cell_type": "markdown",
   "id": "cfbe30d4",
   "metadata": {},
   "source": [
    "# Exercise 02\n",
    "- create a dictionary with 6 keys and values of your choice\n",
    "- write a function that takes a dictionary and a value as input and returns whether the value occurs as a key in the dictionary\n",
    "- write a function that takes a dictionary as input, and returns the dictionary but the keys are swapped with their values (resolve the issue if a value occurs twice!)"
   ]
  },
  {
   "cell_type": "code",
   "execution_count": 20,
   "id": "2123f1c6",
   "metadata": {},
   "outputs": [
    {
     "name": "stdout",
     "output_type": "stream",
     "text": [
      "Original Dictionary:\n",
      "{'apple': 'fruit', 'carrot': 'vegetable', 'cat': 'animal', 'computer': 'device', 'book': 'object', 'sun': 'celestial body'}\n",
      "Dictionary with Keys and Values Swapped:\n",
      "{'fruit': 'apple', 'vegetable': 'carrot', 'animal': 'cat', 'device': 'computer', 'object': 'book', 'celestial body': 'sun'}\n"
     ]
    }
   ],
   "source": [
    "my_dict = {'apple': 'fruit','carrot': 'vegetable','cat': 'animal','computer': 'device','book': 'object','sun': 'celestial body'}\n",
    "\n",
    "def swap_keys_and_values(input_dict):\n",
    "    swapped_dict = {v: k for k, v in input_dict.items()}\n",
    "    return swapped_dict\n",
    "\n",
    "swapped_result = swap_keys_and_values(my_dict)\n",
    "print(\"Original Dictionary:\")\n",
    "print(my_dict)\n",
    "print(\"Dictionary with Keys and Values Swapped:\")\n",
    "print(swapped_result)"
   ]
  },
  {
   "cell_type": "markdown",
   "id": "b4b4e426",
   "metadata": {},
   "source": [
    "# Exercise 03\n",
    "Define a function that creates a dictionary of the first n fibonacci numbers as values paired with their indices as keys. "
   ]
  },
  {
   "cell_type": "code",
   "execution_count": 21,
   "id": "7845b5a4",
   "metadata": {},
   "outputs": [
    {
     "name": "stdout",
     "output_type": "stream",
     "text": [
      "Fibonacci Dictionary for the first 20 Fibonacci numbers:\n",
      "{0: 0, 1: 1, 2: 1, 3: 2, 4: 3, 5: 5, 6: 8, 7: 13, 8: 21, 9: 34, 10: 55, 11: 89, 12: 144, 13: 233, 14: 377, 15: 610, 16: 987, 17: 1597, 18: 2584, 19: 4181}\n"
     ]
    }
   ],
   "source": [
    "def generate_fibonacci_dict(n):\n",
    "    fibonacci_dict = {}\n",
    "    a, b = 0, 1\n",
    "    for i in range(n):\n",
    "        fibonacci_dict[i] = a\n",
    "        a, b = b, a + b\n",
    "    return fibonacci_dict\n",
    "\n",
    "n = 20\n",
    "fibonacci_result = generate_fibonacci_dict(n)\n",
    "print(f\"Fibonacci Dictionary for the first {n} Fibonacci numbers:\")\n",
    "print(fibonacci_result)"
   ]
  }
 ],
 "metadata": {
  "kernelspec": {
   "display_name": "Python 3 (ipykernel)",
   "language": "python",
   "name": "python3"
  },
  "language_info": {
   "codemirror_mode": {
    "name": "ipython",
    "version": 3
   },
   "file_extension": ".py",
   "mimetype": "text/x-python",
   "name": "python",
   "nbconvert_exporter": "python",
   "pygments_lexer": "ipython3",
   "version": "3.11.5"
  }
 },
 "nbformat": 4,
 "nbformat_minor": 5
}
