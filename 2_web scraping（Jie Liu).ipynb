{
 "cells": [
  {
   "cell_type": "code",
   "execution_count": 1,
   "id": "fb8fcd81",
   "metadata": {},
   "outputs": [
    {
     "name": "stdout",
     "output_type": "stream",
     "text": [
      "Google\n",
      "https://www.google.com/\n"
     ]
    },
    {
     "data": {
      "text/plain": [
       "True"
      ]
     },
     "execution_count": 1,
     "metadata": {},
     "output_type": "execute_result"
    }
   ],
   "source": [
    "import selenium\n",
    "from selenium import webdriver\n",
    "\n",
    "driver=webdriver.Chrome()\n",
    "\n",
    "driver.get('https://google.com')\n",
    "print(driver.title)\n",
    "print(driver.current_url)\n",
    "driver.save_screenshot('screenshot.png')"
   ]
  },
  {
   "cell_type": "code",
   "execution_count": 10,
   "id": "2e1db526",
   "metadata": {},
   "outputs": [
    {
     "name": "stdout",
     "output_type": "stream",
     "text": [
      "https://www.nintendo.com/us/\n"
     ]
    }
   ],
   "source": [
    "import selenium\n",
    "from selenium import webdriver\n",
    "options = webdriver.ChromeOptions()\n",
    "options.add_argument(\"--headless=new\")\n",
    "\n",
    "driver = webdriver.Chrome(options=options)\n",
    "\n",
    "driver.get(\"https://www.nintendo.com/\")\n",
    "print(driver.current_url)"
   ]
  },
  {
   "cell_type": "code",
   "execution_count": 26,
   "id": "673b1dee",
   "metadata": {},
   "outputs": [
    {
     "name": "stdout",
     "output_type": "stream",
     "text": [
      "stones of Venice\n",
      "Weinisi shang ren: The merchant of Venice\n",
      "The Haunted Hotel: A Mystery of Modern Venice\n",
      "Othello, the Moor of Venice: a tragedy, as it hath been divers times acted at the Globe, and at the Black-Friers, and now at the Theatre Royal, by His Majesties Servants\n",
      "Venice: Italy Venice\n",
      "Venice\n",
      "Venice\n",
      "VENICE\n",
      "Venice.\n",
      "Venice.\n",
      "Venice.\n",
      "VENICE.\n",
      "Venice.\n",
      "Venice.\n",
      "Venice.\n",
      "Baedeker Venice (Baedeker's Venice)\n",
      "Pocket Venice\n",
      "Venice for pleasure\n",
      "Venice: Poems\n",
      "Venice II\n",
      "['stones of Venice', 'Weinisi shang ren: The merchant of Venice', 'The Haunted Hotel: A Mystery of Modern Venice', 'Othello, the Moor of Venice: a tragedy, as it hath been divers times acted at the Globe, and at the Black-Friers, and now at the Theatre Royal, by His Majesties Servants', 'Venice: Italy Venice', 'Venice', 'Venice', 'VENICE', 'Venice.', 'Venice.', 'Venice.', 'VENICE.', 'Venice.', 'Venice.', 'Venice.', \"Baedeker Venice (Baedeker's Venice)\", 'Pocket Venice', 'Venice for pleasure', 'Venice: Poems', 'Venice II']\n",
      "['来自John Ruskin', '来自William Shakespeare', '来自Wilkie Collins', '来自William Shakespeare', '来自Miranda Kunstleben', '来自Alethea Wiel', '来自Kurt Otto-Wasow', '来自Gillian Price', '未知作者', '来自Martin Hürlimann', '来自Gabriel Fauré', '来自David. Hamilton', '来自Cecil Roth', '来自Daniel Pidgeon', '来自Anne G. Ward', '来自Printing', '来自Paula Hardy', '来自J. G. Links', '来自Ange Mlinko', '来自Fulvio Roiter']\n"
     ]
    }
   ],
   "source": [
    "import selenium \n",
    "from selenium import webdriver\n",
    "from selenium.webdriver.common.by import By\n",
    "from selenium.webdriver.common.keys import Keys\n",
    "from selenium.webdriver.support.ui import Select\n",
    "from selenium.webdriver.support.ui import WebDriverWait\n",
    "from selenium.webdriver.support import expected_conditions as EC\n",
    "from time import sleep\n",
    "url=\"https://openlibrary.org/\"\n",
    "books_list = []\n",
    "author_list=[]\n",
    "link_list=[]\n",
    "pdf_list=[]\n",
    "driver = webdriver.Chrome()\n",
    "driver.get(url)\n",
    "\n",
    "#Step 1: identify search box\n",
    "search_query = driver.find_element(\"name\",\"q\")\n",
    "\n",
    "#Step 2: search a topic\n",
    "search_query.send_keys('Venice')\n",
    "search_query.send_keys(Keys.RETURN)\n",
    "driver = webdriver.Chrome()\n",
    "driver.get(url)\n",
    "\n",
    "#Step 1: identify search box\n",
    "search_query = driver.find_element(\"name\",\"q\")\n",
    "\n",
    "#Step 2: search a topic\n",
    "search_query.send_keys('Venice')\n",
    "search_query.send_keys(Keys.RETURN)\n",
    "#Delay (good practice)\n",
    "sleep(2)\n",
    "\n",
    "#Step 3: Find all the books\n",
    "books=driver.find_elements(\"class name\", \"searchResultItem\")\n",
    "\n",
    "#Create loop to iterate on the book list in order to find each item\n",
    "for b in range(len(books)):\n",
    "    try:          \n",
    "        #Find title per book\n",
    "        title = books[b].find_element(\"class name\",\"booktitle\").text\n",
    "        print(title)\n",
    "         \n",
    "        #Add title to the existing list\n",
    "        books_list.append(title)\n",
    "        #Delay (good practice)\n",
    "        sleep(2)  \n",
    "        \n",
    "    except:\n",
    "        pass\n",
    "\n",
    "#Close the webpage\n",
    "driver.quit()\n",
    "print(books_list)\n",
    "driver = webdriver.Chrome()\n",
    "driver.get(url)\n",
    "\n",
    "#Step 1: identify search box\n",
    "search_query = driver.find_element(\"name\",\"q\")\n",
    "\n",
    "#Step 2: search a topic\n",
    "search_query.send_keys('Venice')\n",
    "search_query.send_keys(Keys.RETURN)\n",
    "#Delay (good practice)\n",
    "sleep(2)\n",
    "\n",
    "#Step 3: Find all the books\n",
    "books=driver.find_elements(\"class name\", \"searchResultItem\")\n",
    "\n",
    "#Create loop to iterate on the book list in order to find each item\n",
    "for b in range(len(books)):\n",
    "    try:          \n",
    "        #Find title per book\n",
    "        title = books[b].find_element(\"class name\",\"booktitle\").text\n",
    "        #print(title)\n",
    "        \n",
    "        #Find the author\n",
    "        authors=books[b].find_element(\"class name\",\"bookauthor\").text\n",
    "        \n",
    "        #Find the link\n",
    "        link = books[b].find_element(\"link text\",title).get_attribute('href')\n",
    "         \n",
    "        #Add items to the existing lists\n",
    "        books_list.append(title)\n",
    "        author_list.append(authors)\n",
    "        link_list.append(link)\n",
    "        #Delay (good practice)\n",
    "        sleep(2)  \n",
    "        \n",
    "    except:\n",
    "        pass\n",
    "print(author_list)"
   ]
  },
  {
   "cell_type": "code",
   "execution_count": 2,
   "id": "8627b13b",
   "metadata": {},
   "outputs": [
    {
     "ename": "InvalidSelectorException",
     "evalue": "Message: invalid selector: Unable to locate an element with the xpath expression //*[@id=‘weibo_top_public’]/div/div/div[2]/input because of the following error:\nSyntaxError: Failed to execute 'evaluate' on 'Document': The string '//*[@id=‘weibo_top_public’]/div/div/div[2]/input' is not a valid XPath expression.\n  (Session info: chrome=117.0.5938.150); For documentation on this error, please visit: https://www.selenium.dev/documentation/webdriver/troubleshooting/errors#invalid-selector-exception\nStacktrace:\n\tGetHandleVerifier [0x00007FF684167D12+55474]\n\t(No symbol) [0x00007FF6840D77C2]\n\t(No symbol) [0x00007FF683F8E0EB]\n\t(No symbol) [0x00007FF683F92B1D]\n\t(No symbol) [0x00007FF683F9460F]\n\t(No symbol) [0x00007FF683F94700]\n\t(No symbol) [0x00007FF683FCE834]\n\t(No symbol) [0x00007FF683FCED2C]\n\t(No symbol) [0x00007FF684009F77]\n\t(No symbol) [0x00007FF683FEF19F]\n\t(No symbol) [0x00007FF684007EF2]\n\t(No symbol) [0x00007FF683FEEF33]\n\t(No symbol) [0x00007FF683FC3D41]\n\t(No symbol) [0x00007FF683FC4F84]\n\tGetHandleVerifier [0x00007FF6844CB762+3609346]\n\tGetHandleVerifier [0x00007FF684521A80+3962400]\n\tGetHandleVerifier [0x00007FF684519F0F+3930799]\n\tGetHandleVerifier [0x00007FF684203CA6+694342]\n\t(No symbol) [0x00007FF6840E2218]\n\t(No symbol) [0x00007FF6840DE484]\n\t(No symbol) [0x00007FF6840DE5B2]\n\t(No symbol) [0x00007FF6840CEE13]\n\tBaseThreadInitThunk [0x00007FFFB2D6257D+29]\n\tRtlUserThreadStart [0x00007FFFB3FCAA68+40]\n",
     "output_type": "error",
     "traceback": [
      "\u001b[1;31m---------------------------------------------------------------------------\u001b[0m",
      "\u001b[1;31mInvalidSelectorException\u001b[0m                  Traceback (most recent call last)",
      "Cell \u001b[1;32mIn[2], line 14\u001b[0m\n\u001b[0;32m     12\u001b[0m sleep(\u001b[38;5;241m10\u001b[39m)\n\u001b[0;32m     13\u001b[0m \u001b[38;5;66;03m#Step 1: identify search box\u001b[39;00m\n\u001b[1;32m---> 14\u001b[0m search_query \u001b[38;5;241m=\u001b[39m  \u001b[43mdriver\u001b[49m\u001b[38;5;241;43m.\u001b[39;49m\u001b[43mfind_element\u001b[49m\u001b[43m(\u001b[49m\u001b[38;5;124;43m\"\u001b[39;49m\u001b[38;5;124;43mxpath\u001b[39;49m\u001b[38;5;124;43m\"\u001b[39;49m\u001b[43m,\u001b[49m\u001b[38;5;124;43m\"\u001b[39;49m\u001b[38;5;124;43m//*[@id=‘weibo_top_public’]/div/div/div[2]/input\u001b[39;49m\u001b[38;5;124;43m\"\u001b[39;49m\u001b[43m)\u001b[49m\n\u001b[0;32m     15\u001b[0m \u001b[38;5;66;03m#step2\u001b[39;00m\n\u001b[0;32m     16\u001b[0m search_query\u001b[38;5;241m.\u001b[39msend_keys(\u001b[38;5;124m'\u001b[39m\u001b[38;5;124m于文文\u001b[39m\u001b[38;5;124m'\u001b[39m)\n",
      "File \u001b[1;32m~\\anaconda3\\envs\\py38\\lib\\site-packages\\selenium\\webdriver\\remote\\webdriver.py:738\u001b[0m, in \u001b[0;36mWebDriver.find_element\u001b[1;34m(self, by, value)\u001b[0m\n\u001b[0;32m    735\u001b[0m     by \u001b[38;5;241m=\u001b[39m By\u001b[38;5;241m.\u001b[39mCSS_SELECTOR\n\u001b[0;32m    736\u001b[0m     value \u001b[38;5;241m=\u001b[39m \u001b[38;5;124mf\u001b[39m\u001b[38;5;124m'\u001b[39m\u001b[38;5;124m[name=\u001b[39m\u001b[38;5;124m\"\u001b[39m\u001b[38;5;132;01m{\u001b[39;00mvalue\u001b[38;5;132;01m}\u001b[39;00m\u001b[38;5;124m\"\u001b[39m\u001b[38;5;124m]\u001b[39m\u001b[38;5;124m'\u001b[39m\n\u001b[1;32m--> 738\u001b[0m \u001b[38;5;28;01mreturn\u001b[39;00m \u001b[38;5;28;43mself\u001b[39;49m\u001b[38;5;241;43m.\u001b[39;49m\u001b[43mexecute\u001b[49m\u001b[43m(\u001b[49m\u001b[43mCommand\u001b[49m\u001b[38;5;241;43m.\u001b[39;49m\u001b[43mFIND_ELEMENT\u001b[49m\u001b[43m,\u001b[49m\u001b[43m \u001b[49m\u001b[43m{\u001b[49m\u001b[38;5;124;43m\"\u001b[39;49m\u001b[38;5;124;43musing\u001b[39;49m\u001b[38;5;124;43m\"\u001b[39;49m\u001b[43m:\u001b[49m\u001b[43m \u001b[49m\u001b[43mby\u001b[49m\u001b[43m,\u001b[49m\u001b[43m \u001b[49m\u001b[38;5;124;43m\"\u001b[39;49m\u001b[38;5;124;43mvalue\u001b[39;49m\u001b[38;5;124;43m\"\u001b[39;49m\u001b[43m:\u001b[49m\u001b[43m \u001b[49m\u001b[43mvalue\u001b[49m\u001b[43m}\u001b[49m\u001b[43m)\u001b[49m[\u001b[38;5;124m\"\u001b[39m\u001b[38;5;124mvalue\u001b[39m\u001b[38;5;124m\"\u001b[39m]\n",
      "File \u001b[1;32m~\\anaconda3\\envs\\py38\\lib\\site-packages\\selenium\\webdriver\\remote\\webdriver.py:344\u001b[0m, in \u001b[0;36mWebDriver.execute\u001b[1;34m(self, driver_command, params)\u001b[0m\n\u001b[0;32m    342\u001b[0m response \u001b[38;5;241m=\u001b[39m \u001b[38;5;28mself\u001b[39m\u001b[38;5;241m.\u001b[39mcommand_executor\u001b[38;5;241m.\u001b[39mexecute(driver_command, params)\n\u001b[0;32m    343\u001b[0m \u001b[38;5;28;01mif\u001b[39;00m response:\n\u001b[1;32m--> 344\u001b[0m     \u001b[38;5;28;43mself\u001b[39;49m\u001b[38;5;241;43m.\u001b[39;49m\u001b[43merror_handler\u001b[49m\u001b[38;5;241;43m.\u001b[39;49m\u001b[43mcheck_response\u001b[49m\u001b[43m(\u001b[49m\u001b[43mresponse\u001b[49m\u001b[43m)\u001b[49m\n\u001b[0;32m    345\u001b[0m     response[\u001b[38;5;124m\"\u001b[39m\u001b[38;5;124mvalue\u001b[39m\u001b[38;5;124m\"\u001b[39m] \u001b[38;5;241m=\u001b[39m \u001b[38;5;28mself\u001b[39m\u001b[38;5;241m.\u001b[39m_unwrap_value(response\u001b[38;5;241m.\u001b[39mget(\u001b[38;5;124m\"\u001b[39m\u001b[38;5;124mvalue\u001b[39m\u001b[38;5;124m\"\u001b[39m, \u001b[38;5;28;01mNone\u001b[39;00m))\n\u001b[0;32m    346\u001b[0m     \u001b[38;5;28;01mreturn\u001b[39;00m response\n",
      "File \u001b[1;32m~\\anaconda3\\envs\\py38\\lib\\site-packages\\selenium\\webdriver\\remote\\errorhandler.py:229\u001b[0m, in \u001b[0;36mErrorHandler.check_response\u001b[1;34m(self, response)\u001b[0m\n\u001b[0;32m    227\u001b[0m         alert_text \u001b[38;5;241m=\u001b[39m value[\u001b[38;5;124m\"\u001b[39m\u001b[38;5;124malert\u001b[39m\u001b[38;5;124m\"\u001b[39m]\u001b[38;5;241m.\u001b[39mget(\u001b[38;5;124m\"\u001b[39m\u001b[38;5;124mtext\u001b[39m\u001b[38;5;124m\"\u001b[39m)\n\u001b[0;32m    228\u001b[0m     \u001b[38;5;28;01mraise\u001b[39;00m exception_class(message, screen, stacktrace, alert_text)  \u001b[38;5;66;03m# type: ignore[call-arg]  # mypy is not smart enough here\u001b[39;00m\n\u001b[1;32m--> 229\u001b[0m \u001b[38;5;28;01mraise\u001b[39;00m exception_class(message, screen, stacktrace)\n",
      "\u001b[1;31mInvalidSelectorException\u001b[0m: Message: invalid selector: Unable to locate an element with the xpath expression //*[@id=‘weibo_top_public’]/div/div/div[2]/input because of the following error:\nSyntaxError: Failed to execute 'evaluate' on 'Document': The string '//*[@id=‘weibo_top_public’]/div/div/div[2]/input' is not a valid XPath expression.\n  (Session info: chrome=117.0.5938.150); For documentation on this error, please visit: https://www.selenium.dev/documentation/webdriver/troubleshooting/errors#invalid-selector-exception\nStacktrace:\n\tGetHandleVerifier [0x00007FF684167D12+55474]\n\t(No symbol) [0x00007FF6840D77C2]\n\t(No symbol) [0x00007FF683F8E0EB]\n\t(No symbol) [0x00007FF683F92B1D]\n\t(No symbol) [0x00007FF683F9460F]\n\t(No symbol) [0x00007FF683F94700]\n\t(No symbol) [0x00007FF683FCE834]\n\t(No symbol) [0x00007FF683FCED2C]\n\t(No symbol) [0x00007FF684009F77]\n\t(No symbol) [0x00007FF683FEF19F]\n\t(No symbol) [0x00007FF684007EF2]\n\t(No symbol) [0x00007FF683FEEF33]\n\t(No symbol) [0x00007FF683FC3D41]\n\t(No symbol) [0x00007FF683FC4F84]\n\tGetHandleVerifier [0x00007FF6844CB762+3609346]\n\tGetHandleVerifier [0x00007FF684521A80+3962400]\n\tGetHandleVerifier [0x00007FF684519F0F+3930799]\n\tGetHandleVerifier [0x00007FF684203CA6+694342]\n\t(No symbol) [0x00007FF6840E2218]\n\t(No symbol) [0x00007FF6840DE484]\n\t(No symbol) [0x00007FF6840DE5B2]\n\t(No symbol) [0x00007FF6840CEE13]\n\tBaseThreadInitThunk [0x00007FFFB2D6257D+29]\n\tRtlUserThreadStart [0x00007FFFB3FCAA68+40]\n"
     ]
    }
   ],
   "source": [
    "import selenium \n",
    "from selenium import webdriver\n",
    "from selenium.webdriver.common.by import By\n",
    "from selenium.webdriver.common.keys import Keys\n",
    "from selenium.webdriver.support.ui import Select\n",
    "from selenium.webdriver.support.ui import WebDriverWait\n",
    "from selenium.webdriver.support import expected_conditions as EC\n",
    "from time import sleep\n",
    "url=\"https://weibo.com/newlogin?tabtype=weibo&gid=102803&openLoginLayer=0&url=https%3A%2F%2Fwww.weibo.com%2F\"\n",
    "driver = webdriver.Chrome()\n",
    "driver.get(url)\n",
    "sleep(10)\n",
    "#Step 1: identify search box\n",
    "search_query =  driver.find_element(\"xpath\",\"//*[@id=‘weibo_top_public’]/div/div/div[2]/input\")\n",
    "#step2\n",
    "search_query.send_keys('于文文')\n",
    "search_query.send_keys(Keys.RETURN)\n",
    "\n",
    "#登录\n",
    "register = driver.find_element(\"xpath\",\"//*[@id=’searchapps‘]/div/div[1]/div/div/div[3]/div[1]/div/a[1]\")\n",
    "sleep(7)\n",
    "\n",
    "river.find_element(\"class\",\"woo-box-flex woo-box-alignCenter woo-box-justifyCenter\").click\n",
    "sleep(5)\n",
    "buttern.send_keys('姐姐好米')\n",
    "buttern.send_keys(Keys.enter)"
   ]
  },
  {
   "cell_type": "code",
   "execution_count": 28,
   "id": "e4af8061",
   "metadata": {},
   "outputs": [
    {
     "ename": "SyntaxError",
     "evalue": "unexpected EOF while parsing (3411762865.py, line 30)",
     "output_type": "error",
     "traceback": [
      "\u001b[1;36m  Cell \u001b[1;32mIn[28], line 30\u001b[1;36m\u001b[0m\n\u001b[1;33m    print(title)\u001b[0m\n\u001b[1;37m                ^\u001b[0m\n\u001b[1;31mSyntaxError\u001b[0m\u001b[1;31m:\u001b[0m unexpected EOF while parsing\n"
     ]
    }
   ],
   "source": [
    "import selenium \n",
    "from selenium import webdriver\n",
    "from selenium.webdriver.common.by import By\n",
    "from selenium.webdriver.common.keys import Keys\n",
    "from selenium.webdriver.support.ui import Select\n",
    "from selenium.webdriver.support.ui import WebDriverWait\n",
    "from selenium.webdriver.support import expected_conditions as EC\n",
    "from time import sleep\n",
    "buildings_list = []\n",
    "url=\"https://www.archdaily.com/\"\n",
    "driver = webdriver.Chrome()\n",
    "driver.get(url)\n",
    "list_ = []\n",
    "\n",
    "#step1 identify search\n",
    "search_query =  driver.find_element(\"xpath\",\"//*[@id='afd-search-actions-mobile']/div/input\")\n",
    "\n",
    "#step2 search\n",
    "search_query.send_keys('GMP')\n",
    "search_query.send_keys(Keys.RETURN)\n",
    "\n",
    "#Step 3: Find relative buildings\n",
    "buildings=driver.find_elements(\"xpath\", \"//*[@id='main']/div/div[3]/h3\")\n",
    "\n",
    "#step 4:\n",
    "\n",
    "for b in range(len(buildings)):\n",
    "    try:\n",
    "        title = buildings[b].find_element(\"class\",\"gridview__entry-title\")\n",
    "        print(title)"
   ]
  },
  {
   "cell_type": "code",
   "execution_count": null,
   "id": "3c83ca56",
   "metadata": {},
   "outputs": [],
   "source": []
  },
  {
   "cell_type": "code",
   "execution_count": null,
   "id": "490302cb",
   "metadata": {},
   "outputs": [],
   "source": []
  }
 ],
 "metadata": {
  "kernelspec": {
   "display_name": "Python 3 (ipykernel)",
   "language": "python",
   "name": "python3"
  },
  "language_info": {
   "codemirror_mode": {
    "name": "ipython",
    "version": 3
   },
   "file_extension": ".py",
   "mimetype": "text/x-python",
   "name": "python",
   "nbconvert_exporter": "python",
   "pygments_lexer": "ipython3",
   "version": "3.8.18"
  }
 },
 "nbformat": 4,
 "nbformat_minor": 5
}
